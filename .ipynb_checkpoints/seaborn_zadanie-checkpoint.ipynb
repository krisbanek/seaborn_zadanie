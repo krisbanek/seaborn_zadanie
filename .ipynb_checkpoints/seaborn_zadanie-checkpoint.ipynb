{
 "cells": [
  {
   "cell_type": "markdown",
   "id": "8337b6e1",
   "metadata": {},
   "source": [
    "# Czy istnieje zależność pomiędzy tym, kto jest bezpośrednim przełożonym danego pracownika, a oceną wydajności pracy?"
   ]
  },
  {
   "cell_type": "code",
   "execution_count": 1,
   "id": "498624e5",
   "metadata": {},
   "outputs": [],
   "source": [
    "import pandas as pd\n",
    "import numpy as np\n",
    "import matplotlib.pyplot as plt\n",
    "import seaborn as sns"
   ]
  },
  {
   "cell_type": "code",
   "execution_count": 2,
   "id": "0c2a8e70",
   "metadata": {},
   "outputs": [
    {
     "data": {
      "text/html": [
       "<div>\n",
       "<style scoped>\n",
       "    .dataframe tbody tr th:only-of-type {\n",
       "        vertical-align: middle;\n",
       "    }\n",
       "\n",
       "    .dataframe tbody tr th {\n",
       "        vertical-align: top;\n",
       "    }\n",
       "\n",
       "    .dataframe thead th {\n",
       "        text-align: right;\n",
       "    }\n",
       "</style>\n",
       "<table border=\"1\" class=\"dataframe\">\n",
       "  <thead>\n",
       "    <tr style=\"text-align: right;\">\n",
       "      <th></th>\n",
       "      <th>Employee_Name</th>\n",
       "      <th>EmpID</th>\n",
       "      <th>MarriedID</th>\n",
       "      <th>MaritalStatusID</th>\n",
       "      <th>GenderID</th>\n",
       "      <th>EmpStatusID</th>\n",
       "      <th>DeptID</th>\n",
       "      <th>PerfScoreID</th>\n",
       "      <th>FromDiversityJobFairID</th>\n",
       "      <th>PayRate</th>\n",
       "      <th>...</th>\n",
       "      <th>Department</th>\n",
       "      <th>ManagerName</th>\n",
       "      <th>ManagerID</th>\n",
       "      <th>RecruitmentSource</th>\n",
       "      <th>PerformanceScore</th>\n",
       "      <th>EngagementSurvey</th>\n",
       "      <th>EmpSatisfaction</th>\n",
       "      <th>SpecialProjectsCount</th>\n",
       "      <th>LastPerformanceReview_Date</th>\n",
       "      <th>DaysLateLast30</th>\n",
       "    </tr>\n",
       "  </thead>\n",
       "  <tbody>\n",
       "    <tr>\n",
       "      <th>0</th>\n",
       "      <td>Brown, Mia</td>\n",
       "      <td>1.103024e+09</td>\n",
       "      <td>1.0</td>\n",
       "      <td>1.0</td>\n",
       "      <td>0.0</td>\n",
       "      <td>1.0</td>\n",
       "      <td>1.0</td>\n",
       "      <td>3.0</td>\n",
       "      <td>1.0</td>\n",
       "      <td>28.50</td>\n",
       "      <td>...</td>\n",
       "      <td>Admin Offices</td>\n",
       "      <td>Brandon R. LeBlanc</td>\n",
       "      <td>1.0</td>\n",
       "      <td>Diversity Job Fair</td>\n",
       "      <td>Fully Meets</td>\n",
       "      <td>2.04</td>\n",
       "      <td>2.0</td>\n",
       "      <td>6.0</td>\n",
       "      <td>1/15/2019</td>\n",
       "      <td>0.0</td>\n",
       "    </tr>\n",
       "    <tr>\n",
       "      <th>1</th>\n",
       "      <td>LaRotonda, William</td>\n",
       "      <td>1.106027e+09</td>\n",
       "      <td>0.0</td>\n",
       "      <td>2.0</td>\n",
       "      <td>1.0</td>\n",
       "      <td>1.0</td>\n",
       "      <td>1.0</td>\n",
       "      <td>3.0</td>\n",
       "      <td>0.0</td>\n",
       "      <td>23.00</td>\n",
       "      <td>...</td>\n",
       "      <td>Admin Offices</td>\n",
       "      <td>Brandon R. LeBlanc</td>\n",
       "      <td>1.0</td>\n",
       "      <td>Website Banner Ads</td>\n",
       "      <td>Fully Meets</td>\n",
       "      <td>5.00</td>\n",
       "      <td>4.0</td>\n",
       "      <td>4.0</td>\n",
       "      <td>1/17/2019</td>\n",
       "      <td>0.0</td>\n",
       "    </tr>\n",
       "    <tr>\n",
       "      <th>2</th>\n",
       "      <td>Steans, Tyrone</td>\n",
       "      <td>1.302053e+09</td>\n",
       "      <td>0.0</td>\n",
       "      <td>0.0</td>\n",
       "      <td>1.0</td>\n",
       "      <td>1.0</td>\n",
       "      <td>1.0</td>\n",
       "      <td>3.0</td>\n",
       "      <td>0.0</td>\n",
       "      <td>29.00</td>\n",
       "      <td>...</td>\n",
       "      <td>Admin Offices</td>\n",
       "      <td>Brandon R. LeBlanc</td>\n",
       "      <td>1.0</td>\n",
       "      <td>Internet Search</td>\n",
       "      <td>Fully Meets</td>\n",
       "      <td>3.90</td>\n",
       "      <td>5.0</td>\n",
       "      <td>5.0</td>\n",
       "      <td>1/18/2019</td>\n",
       "      <td>0.0</td>\n",
       "    </tr>\n",
       "    <tr>\n",
       "      <th>3</th>\n",
       "      <td>Howard, Estelle</td>\n",
       "      <td>1.211051e+09</td>\n",
       "      <td>1.0</td>\n",
       "      <td>1.0</td>\n",
       "      <td>0.0</td>\n",
       "      <td>1.0</td>\n",
       "      <td>1.0</td>\n",
       "      <td>3.0</td>\n",
       "      <td>0.0</td>\n",
       "      <td>21.50</td>\n",
       "      <td>...</td>\n",
       "      <td>Admin Offices</td>\n",
       "      <td>Brandon R. LeBlanc</td>\n",
       "      <td>1.0</td>\n",
       "      <td>Pay Per Click - Google</td>\n",
       "      <td>Fully Meets</td>\n",
       "      <td>3.24</td>\n",
       "      <td>3.0</td>\n",
       "      <td>4.0</td>\n",
       "      <td>NaN</td>\n",
       "      <td>NaN</td>\n",
       "    </tr>\n",
       "    <tr>\n",
       "      <th>4</th>\n",
       "      <td>Singh, Nan</td>\n",
       "      <td>1.307060e+09</td>\n",
       "      <td>0.0</td>\n",
       "      <td>0.0</td>\n",
       "      <td>0.0</td>\n",
       "      <td>1.0</td>\n",
       "      <td>1.0</td>\n",
       "      <td>3.0</td>\n",
       "      <td>0.0</td>\n",
       "      <td>16.56</td>\n",
       "      <td>...</td>\n",
       "      <td>Admin Offices</td>\n",
       "      <td>Brandon R. LeBlanc</td>\n",
       "      <td>1.0</td>\n",
       "      <td>Website Banner Ads</td>\n",
       "      <td>Fully Meets</td>\n",
       "      <td>5.00</td>\n",
       "      <td>3.0</td>\n",
       "      <td>5.0</td>\n",
       "      <td>1/15/2019</td>\n",
       "      <td>0.0</td>\n",
       "    </tr>\n",
       "  </tbody>\n",
       "</table>\n",
       "<p>5 rows × 35 columns</p>\n",
       "</div>"
      ],
      "text/plain": [
       "          Employee_Name         EmpID  MarriedID  MaritalStatusID  GenderID  \\\n",
       "0            Brown, Mia  1.103024e+09        1.0              1.0       0.0   \n",
       "1  LaRotonda, William    1.106027e+09        0.0              2.0       1.0   \n",
       "2      Steans, Tyrone    1.302053e+09        0.0              0.0       1.0   \n",
       "3       Howard, Estelle  1.211051e+09        1.0              1.0       0.0   \n",
       "4           Singh, Nan   1.307060e+09        0.0              0.0       0.0   \n",
       "\n",
       "   EmpStatusID  DeptID  PerfScoreID  FromDiversityJobFairID  PayRate  ...  \\\n",
       "0          1.0     1.0          3.0                     1.0    28.50  ...   \n",
       "1          1.0     1.0          3.0                     0.0    23.00  ...   \n",
       "2          1.0     1.0          3.0                     0.0    29.00  ...   \n",
       "3          1.0     1.0          3.0                     0.0    21.50  ...   \n",
       "4          1.0     1.0          3.0                     0.0    16.56  ...   \n",
       "\n",
       "      Department         ManagerName ManagerID       RecruitmentSource  \\\n",
       "0  Admin Offices  Brandon R. LeBlanc       1.0      Diversity Job Fair   \n",
       "1  Admin Offices  Brandon R. LeBlanc       1.0      Website Banner Ads   \n",
       "2  Admin Offices  Brandon R. LeBlanc       1.0         Internet Search   \n",
       "3  Admin Offices  Brandon R. LeBlanc       1.0  Pay Per Click - Google   \n",
       "4  Admin Offices  Brandon R. LeBlanc       1.0      Website Banner Ads   \n",
       "\n",
       "   PerformanceScore EngagementSurvey EmpSatisfaction SpecialProjectsCount  \\\n",
       "0       Fully Meets             2.04             2.0                  6.0   \n",
       "1       Fully Meets             5.00             4.0                  4.0   \n",
       "2       Fully Meets             3.90             5.0                  5.0   \n",
       "3       Fully Meets             3.24             3.0                  4.0   \n",
       "4       Fully Meets             5.00             3.0                  5.0   \n",
       "\n",
       "  LastPerformanceReview_Date DaysLateLast30  \n",
       "0                  1/15/2019            0.0  \n",
       "1                  1/17/2019            0.0  \n",
       "2                  1/18/2019            0.0  \n",
       "3                        NaN            NaN  \n",
       "4                  1/15/2019            0.0  \n",
       "\n",
       "[5 rows x 35 columns]"
      ]
     },
     "execution_count": 2,
     "metadata": {},
     "output_type": "execute_result"
    }
   ],
   "source": [
    "df = pd.read_csv('HRDataset.csv')\n",
    "df.head()"
   ]
  },
  {
   "cell_type": "code",
   "execution_count": 3,
   "id": "89e860f0",
   "metadata": {},
   "outputs": [
    {
     "data": {
      "text/plain": [
       "Index(['Employee_Name', 'EmpID', 'MarriedID', 'MaritalStatusID', 'GenderID',\n",
       "       'EmpStatusID', 'DeptID', 'PerfScoreID', 'FromDiversityJobFairID',\n",
       "       'PayRate', 'Termd', 'PositionID', 'Position', 'State', 'Zip', 'DOB',\n",
       "       'Sex', 'MaritalDesc', 'CitizenDesc', 'HispanicLatino', 'RaceDesc',\n",
       "       'DateofHire', 'DateofTermination', 'TermReason', 'EmploymentStatus',\n",
       "       'Department', 'ManagerName', 'ManagerID', 'RecruitmentSource',\n",
       "       'PerformanceScore', 'EngagementSurvey', 'EmpSatisfaction',\n",
       "       'SpecialProjectsCount', 'LastPerformanceReview_Date', 'DaysLateLast30'],\n",
       "      dtype='object')"
      ]
     },
     "execution_count": 3,
     "metadata": {},
     "output_type": "execute_result"
    }
   ],
   "source": [
    "df.keys()"
   ]
  },
  {
   "cell_type": "code",
   "execution_count": 12,
   "id": "66123964",
   "metadata": {},
   "outputs": [
    {
     "data": {
      "text/plain": [
       "<AxesSubplot:xlabel='ManagerID', ylabel='count'>"
      ]
     },
     "execution_count": 12,
     "metadata": {},
     "output_type": "execute_result"
    },
    {
     "data": {
      "image/png": "[encoded data removed]",
      "text/plain": [
       "<Figure size 1080x360 with 1 Axes>"
      ]
     },
     "metadata": {
      "needs_background": "light"
     },
     "output_type": "display_data"
    }
   ],
   "source": [
    "plt.figure(figsize=(15,5))\n",
    "sns.countplot(x='ManagerID',data=df)"
   ]
  },
  {
   "cell_type": "code",
   "execution_count": 5,
   "id": "f5823a16",
   "metadata": {},
   "outputs": [
    {
     "data": {
      "text/plain": [
       "<AxesSubplot:xlabel='PerfScoreID', ylabel='Density'>"
      ]
     },
     "execution_count": 5,
     "metadata": {},
     "output_type": "execute_result"
    },
    {
     "data": {
      "image/png": "[encoded data removed]",
      "text/plain": [
       "<Figure size 432x288 with 1 Axes>"
      ]
     },
     "metadata": {
      "needs_background": "light"
     },
     "output_type": "display_data"
    }
   ],
   "source": [
    "sns.distplot(df['PerfScoreID'])"
   ]
  },
  {
   "cell_type": "code",
   "execution_count": 20,
   "id": "8b53c0fa",
   "metadata": {},
   "outputs": [
    {
     "data": {
      "text/html": [
       "<div>\n",
       "<style scoped>\n",
       "    .dataframe tbody tr th:only-of-type {\n",
       "        vertical-align: middle;\n",
       "    }\n",
       "\n",
       "    .dataframe tbody tr th {\n",
       "        vertical-align: top;\n",
       "    }\n",
       "\n",
       "    .dataframe thead th {\n",
       "        text-align: right;\n",
       "    }\n",
       "</style>\n",
       "<table border=\"1\" class=\"dataframe\">\n",
       "  <thead>\n",
       "    <tr style=\"text-align: right;\">\n",
       "      <th></th>\n",
       "      <th>ManagerID</th>\n",
       "      <th>ManagerName</th>\n",
       "    </tr>\n",
       "  </thead>\n",
       "  <tbody>\n",
       "    <tr>\n",
       "      <th>0</th>\n",
       "      <td>1.0</td>\n",
       "      <td>Brandon R. LeBlanc</td>\n",
       "    </tr>\n",
       "    <tr>\n",
       "      <th>38</th>\n",
       "      <td>2.0</td>\n",
       "      <td>Janet King</td>\n",
       "    </tr>\n",
       "    <tr>\n",
       "      <th>300</th>\n",
       "      <td>3.0</td>\n",
       "      <td>Brandon R. LeBlanc</td>\n",
       "    </tr>\n",
       "    <tr>\n",
       "      <th>40</th>\n",
       "      <td>4.0</td>\n",
       "      <td>Simon Roup</td>\n",
       "    </tr>\n",
       "    <tr>\n",
       "      <th>37</th>\n",
       "      <td>5.0</td>\n",
       "      <td>Jennifer Zamora</td>\n",
       "    </tr>\n",
       "    <tr>\n",
       "      <th>60</th>\n",
       "      <td>6.0</td>\n",
       "      <td>Eric Dougall</td>\n",
       "    </tr>\n",
       "    <tr>\n",
       "      <th>64</th>\n",
       "      <td>7.0</td>\n",
       "      <td>Peter Monroe</td>\n",
       "    </tr>\n",
       "    <tr>\n",
       "      <th>73</th>\n",
       "      <td>9.0</td>\n",
       "      <td>Board of Directors</td>\n",
       "    </tr>\n",
       "    <tr>\n",
       "      <th>289</th>\n",
       "      <td>10.0</td>\n",
       "      <td>Alex Sweetwater</td>\n",
       "    </tr>\n",
       "    <tr>\n",
       "      <th>88</th>\n",
       "      <td>11.0</td>\n",
       "      <td>Amy Dunn</td>\n",
       "    </tr>\n",
       "    <tr>\n",
       "      <th>103</th>\n",
       "      <td>12.0</td>\n",
       "      <td>Brannon Miller</td>\n",
       "    </tr>\n",
       "    <tr>\n",
       "      <th>33</th>\n",
       "      <td>13.0</td>\n",
       "      <td>Brian Champaigne</td>\n",
       "    </tr>\n",
       "    <tr>\n",
       "      <th>118</th>\n",
       "      <td>14.0</td>\n",
       "      <td>David Stanley</td>\n",
       "    </tr>\n",
       "    <tr>\n",
       "      <th>281</th>\n",
       "      <td>15.0</td>\n",
       "      <td>Debra Houlihan</td>\n",
       "    </tr>\n",
       "    <tr>\n",
       "      <th>133</th>\n",
       "      <td>16.0</td>\n",
       "      <td>Elijiah Gray</td>\n",
       "    </tr>\n",
       "    <tr>\n",
       "      <th>6</th>\n",
       "      <td>17.0</td>\n",
       "      <td>John Smith</td>\n",
       "    </tr>\n",
       "    <tr>\n",
       "      <th>148</th>\n",
       "      <td>18.0</td>\n",
       "      <td>Kelley Spirea</td>\n",
       "    </tr>\n",
       "    <tr>\n",
       "      <th>163</th>\n",
       "      <td>19.0</td>\n",
       "      <td>Ketsia Liebig</td>\n",
       "    </tr>\n",
       "    <tr>\n",
       "      <th>178</th>\n",
       "      <td>20.0</td>\n",
       "      <td>Kissy Sullivan</td>\n",
       "    </tr>\n",
       "    <tr>\n",
       "      <th>20</th>\n",
       "      <td>21.0</td>\n",
       "      <td>Lynn Daneault</td>\n",
       "    </tr>\n",
       "    <tr>\n",
       "      <th>193</th>\n",
       "      <td>22.0</td>\n",
       "      <td>Michael Albert</td>\n",
       "    </tr>\n",
       "    <tr>\n",
       "      <th>271</th>\n",
       "      <td>30.0</td>\n",
       "      <td>Michael Albert</td>\n",
       "    </tr>\n",
       "    <tr>\n",
       "      <th>209</th>\n",
       "      <td>39.0</td>\n",
       "      <td>Webster Butler</td>\n",
       "    </tr>\n",
       "    <tr>\n",
       "      <th>210</th>\n",
       "      <td>NaN</td>\n",
       "      <td>Webster Butler</td>\n",
       "    </tr>\n",
       "    <tr>\n",
       "      <th>310</th>\n",
       "      <td>NaN</td>\n",
       "      <td>NaN</td>\n",
       "    </tr>\n",
       "  </tbody>\n",
       "</table>\n",
       "</div>"
      ],
      "text/plain": [
       "     ManagerID         ManagerName\n",
       "0          1.0  Brandon R. LeBlanc\n",
       "38         2.0          Janet King\n",
       "300        3.0  Brandon R. LeBlanc\n",
       "40         4.0          Simon Roup\n",
       "37         5.0     Jennifer Zamora\n",
       "60         6.0        Eric Dougall\n",
       "64         7.0        Peter Monroe\n",
       "73         9.0  Board of Directors\n",
       "289       10.0     Alex Sweetwater\n",
       "88        11.0            Amy Dunn\n",
       "103       12.0      Brannon Miller\n",
       "33        13.0    Brian Champaigne\n",
       "118       14.0       David Stanley\n",
       "281       15.0      Debra Houlihan\n",
       "133       16.0        Elijiah Gray\n",
       "6         17.0          John Smith\n",
       "148       18.0       Kelley Spirea\n",
       "163       19.0       Ketsia Liebig\n",
       "178       20.0      Kissy Sullivan\n",
       "20        21.0       Lynn Daneault\n",
       "193       22.0      Michael Albert\n",
       "271       30.0      Michael Albert\n",
       "209       39.0      Webster Butler\n",
       "210        NaN      Webster Butler\n",
       "310        NaN                 NaN"
      ]
     },
     "execution_count": 20,
     "metadata": {},
     "output_type": "execute_result"
    }
   ],
   "source": [
    "df[['ManagerID','ManagerName']].drop_duplicates().sort_values(by='ManagerID')"
   ]
  },
  {
   "cell_type": "code",
   "execution_count": 21,
   "id": "a57e3e89",
   "metadata": {},
   "outputs": [
    {
     "data": {
      "text/html": [
       "<div>\n",
       "<style scoped>\n",
       "    .dataframe tbody tr th:only-of-type {\n",
       "        vertical-align: middle;\n",
       "    }\n",
       "\n",
       "    .dataframe tbody tr th {\n",
       "        vertical-align: top;\n",
       "    }\n",
       "\n",
       "    .dataframe thead th {\n",
       "        text-align: right;\n",
       "    }\n",
       "</style>\n",
       "<table border=\"1\" class=\"dataframe\">\n",
       "  <thead>\n",
       "    <tr style=\"text-align: right;\">\n",
       "      <th></th>\n",
       "      <th>PerfScoreID</th>\n",
       "      <th>PerformanceScore</th>\n",
       "    </tr>\n",
       "  </thead>\n",
       "  <tbody>\n",
       "    <tr>\n",
       "      <th>8</th>\n",
       "      <td>1.0</td>\n",
       "      <td>PIP</td>\n",
       "    </tr>\n",
       "    <tr>\n",
       "      <th>58</th>\n",
       "      <td>2.0</td>\n",
       "      <td>Needs Improvement</td>\n",
       "    </tr>\n",
       "    <tr>\n",
       "      <th>0</th>\n",
       "      <td>3.0</td>\n",
       "      <td>Fully Meets</td>\n",
       "    </tr>\n",
       "    <tr>\n",
       "      <th>21</th>\n",
       "      <td>4.0</td>\n",
       "      <td>Exceeds</td>\n",
       "    </tr>\n",
       "    <tr>\n",
       "      <th>310</th>\n",
       "      <td>NaN</td>\n",
       "      <td>NaN</td>\n",
       "    </tr>\n",
       "  </tbody>\n",
       "</table>\n",
       "</div>"
      ],
      "text/plain": [
       "     PerfScoreID   PerformanceScore\n",
       "8            1.0                PIP\n",
       "58           2.0  Needs Improvement\n",
       "0            3.0        Fully Meets\n",
       "21           4.0            Exceeds\n",
       "310          NaN                NaN"
      ]
     },
     "execution_count": 21,
     "metadata": {},
     "output_type": "execute_result"
    }
   ],
   "source": [
    "df[['PerfScoreID','PerformanceScore']].drop_duplicates().sort_values(by='PerfScoreID')"
   ]
  },
  {
   "cell_type": "code",
   "execution_count": 24,
   "id": "672668c1",
   "metadata": {},
   "outputs": [
    {
     "data": {
      "text/plain": [
       "<seaborn.axisgrid.JointGrid at 0x2cbd21f9820>"
      ]
     },
     "execution_count": 24,
     "metadata": {},
     "output_type": "execute_result"
    },
    {
     "data": {
      "image/png": "[encoded data removed]",
      "text/plain": [
       "<Figure size 432x432 with 3 Axes>"
      ]
     },
     "metadata": {
      "needs_background": "light"
     },
     "output_type": "display_data"
    }
   ],
   "source": [
    "sns.jointplot(x='PerfScoreID',y='ManagerID',data=df,kind='hex')"
   ]
  },
  {
   "cell_type": "markdown",
   "id": "97273890",
   "metadata": {},
   "source": [
    "Istnieje zależność pomiędzy tym, kto jest bezpośrednim przełożonym danego pracownika, a oceną wydajności pracy.\n",
    "Manager nr 20 - Kissy Sullivan ma najwiecej pracowników z oceną 3 - Fully Meets."
   ]
  },
  {
   "cell_type": "markdown",
   "id": "39ac19c9",
   "metadata": {},
   "source": [
    "# Jakie źródła pozyskania pracownika są najlepsze, jeśli zależy nam na jak najdłuższym stażu pracowników?"
   ]
  },
  {
   "cell_type": "code",
   "execution_count": 25,
   "id": "4563642c",
   "metadata": {
    "scrolled": true
   },
   "outputs": [
    {
     "data": {
      "text/plain": [
       "0                          Diversity Job Fair\n",
       "1                          Website Banner Ads\n",
       "2                             Internet Search\n",
       "3                      Pay Per Click - Google\n",
       "6      Social Networks - Facebook Twitter etc\n",
       "7                                   Billboard\n",
       "11                                Monster.com\n",
       "13                         Newspager/Magazine\n",
       "17                       Professional Society\n",
       "18                                      Other\n",
       "20                          Employee Referral\n",
       "33                                     Indeed\n",
       "40          Search Engine - Google Bing Yahoo\n",
       "41                                  Glassdoor\n",
       "50                            Vendor Referral\n",
       "54                                   MBTA ads\n",
       "63                        Information Session\n",
       "89                              Word of Mouth\n",
       "96                              Pay Per Click\n",
       "111                      On-campus Recruiting\n",
       "194                   On-line Web application\n",
       "256                             Careerbuilder\n",
       "301                Company Intranet - Partner\n",
       "310                                       NaN\n",
       "Name: RecruitmentSource, dtype: object"
      ]
     },
     "execution_count": 25,
     "metadata": {},
     "output_type": "execute_result"
    }
   ],
   "source": [
    "df['RecruitmentSource'].drop_duplicates()"
   ]
  },
  {
   "cell_type": "code",
   "execution_count": 26,
   "id": "d983c52b",
   "metadata": {},
   "outputs": [],
   "source": [
    "df['DateofTermination'] = pd.to_datetime(df['DateofTermination'])\n",
    "df['DOB'] = pd.to_datetime(df['DOB'])\n",
    "df['DateofHire'] = pd.to_datetime(df['DateofHire'])"
   ]
  },
  {
   "cell_type": "code",
   "execution_count": 27,
   "id": "bc4f4eb3",
   "metadata": {},
   "outputs": [],
   "source": [
    "import datetime as dt\n",
    "\n",
    "def count_seniority(row):\n",
    "\n",
    "    if pd.isnull(row['DateofTermination']):\n",
    "        end_date = dt.datetime(2019,9,27)\n",
    "    else:\n",
    "        end_date = row['DateofTermination']\n",
    "\n",
    "    return (end_date - row['DateofHire'])/np.timedelta64(1,'Y')"
   ]
  },
  {
   "cell_type": "code",
   "execution_count": 28,
   "id": "06d4421a",
   "metadata": {},
   "outputs": [],
   "source": [
    "df['Seniority'] = df.apply(lambda row: count_seniority(row),axis=1)"
   ]
  },
  {
   "cell_type": "code",
   "execution_count": 29,
   "id": "d3fdca30",
   "metadata": {},
   "outputs": [
    {
     "data": {
      "text/html": [
       "<div>\n",
       "<style scoped>\n",
       "    .dataframe tbody tr th:only-of-type {\n",
       "        vertical-align: middle;\n",
       "    }\n",
       "\n",
       "    .dataframe tbody tr th {\n",
       "        vertical-align: top;\n",
       "    }\n",
       "\n",
       "    .dataframe thead th {\n",
       "        text-align: right;\n",
       "    }\n",
       "</style>\n",
       "<table border=\"1\" class=\"dataframe\">\n",
       "  <thead>\n",
       "    <tr style=\"text-align: right;\">\n",
       "      <th></th>\n",
       "      <th>DateofHire</th>\n",
       "      <th>DateofTermination</th>\n",
       "      <th>Seniority</th>\n",
       "    </tr>\n",
       "  </thead>\n",
       "  <tbody>\n",
       "    <tr>\n",
       "      <th>0</th>\n",
       "      <td>2008-10-27</td>\n",
       "      <td>NaT</td>\n",
       "      <td>10.916035</td>\n",
       "    </tr>\n",
       "    <tr>\n",
       "      <th>1</th>\n",
       "      <td>2014-01-06</td>\n",
       "      <td>NaT</td>\n",
       "      <td>5.722226</td>\n",
       "    </tr>\n",
       "    <tr>\n",
       "      <th>2</th>\n",
       "      <td>2014-09-29</td>\n",
       "      <td>NaT</td>\n",
       "      <td>4.993942</td>\n",
       "    </tr>\n",
       "    <tr>\n",
       "      <th>3</th>\n",
       "      <td>2015-02-16</td>\n",
       "      <td>2015-04-15</td>\n",
       "      <td>0.158799</td>\n",
       "    </tr>\n",
       "    <tr>\n",
       "      <th>4</th>\n",
       "      <td>2015-05-01</td>\n",
       "      <td>NaT</td>\n",
       "      <td>4.408030</td>\n",
       "    </tr>\n",
       "  </tbody>\n",
       "</table>\n",
       "</div>"
      ],
      "text/plain": [
       "  DateofHire DateofTermination  Seniority\n",
       "0 2008-10-27               NaT  10.916035\n",
       "1 2014-01-06               NaT   5.722226\n",
       "2 2014-09-29               NaT   4.993942\n",
       "3 2015-02-16        2015-04-15   0.158799\n",
       "4 2015-05-01               NaT   4.408030"
      ]
     },
     "execution_count": 29,
     "metadata": {},
     "output_type": "execute_result"
    }
   ],
   "source": [
    "df[['DateofHire','DateofTermination','Seniority']].head()"
   ]
  },
  {
   "cell_type": "code",
   "execution_count": 34,
   "id": "9167b638",
   "metadata": {},
   "outputs": [
    {
     "data": {
      "text/plain": [
       "<seaborn.axisgrid.JointGrid at 0x2cbd4715d00>"
      ]
     },
     "execution_count": 34,
     "metadata": {},
     "output_type": "execute_result"
    },
    {
     "data": {
      "image/png": "[encoded data removed]",
      "text/plain": [
       "<Figure size 432x432 with 3 Axes>"
      ]
     },
     "metadata": {
      "needs_background": "light"
     },
     "output_type": "display_data"
    }
   ],
   "source": [
    "sns.jointplot(x='Seniority',y='RecruitmentSource',data=df)"
   ]
  },
  {
   "cell_type": "markdown",
   "id": "b3e43714",
   "metadata": {},
   "source": [
    "Jeśli zależy nam na jak najdłuższym stażu pracowników to Billboard jest naljepsze."
   ]
  },
  {
   "cell_type": "markdown",
   "id": "4fe1ca47",
   "metadata": {},
   "source": [
    "# Czy stan cywilny pracownika koreluje w jakikolwiek sposób z zadowoleniem z pracy?"
   ]
  },
  {
   "cell_type": "code",
   "execution_count": 54,
   "id": "9d0ddf96",
   "metadata": {},
   "outputs": [
    {
     "data": {
      "text/plain": [
       "<AxesSubplot:xlabel='EmpSatisfaction', ylabel='count'>"
      ]
     },
     "execution_count": 54,
     "metadata": {},
     "output_type": "execute_result"
    },
    {
     "data": {
      "image/png": "[encoded data removed]",
      "text/plain": [
       "<Figure size 1080x360 with 1 Axes>"
      ]
     },
     "metadata": {
      "needs_background": "light"
     },
     "output_type": "display_data"
    }
   ],
   "source": [
    "plt.figure(figsize=(15,5))\n",
    "sns.countplot(x='EmpSatisfaction',data=df,hue='MaritalDesc')"
   ]
  },
  {
   "cell_type": "markdown",
   "id": "f0c2875a",
   "metadata": {},
   "source": [
    "Niezamężni pracownicy są bardziej zadowoleni z pracy."
   ]
  },
  {
   "cell_type": "markdown",
   "id": "6e7ff500",
   "metadata": {},
   "source": [
    "# Jak wygląda struktura wieku aktualnie zatrudnionych pracowników?"
   ]
  },
  {
   "cell_type": "code",
   "execution_count": 117,
   "id": "c2871e80",
   "metadata": {},
   "outputs": [],
   "source": [
    "df = pd.read_csv('HRDataset.csv')\n",
    "df['DateofTermination'] = pd.to_datetime(df['DateofTermination'])\n",
    "df['DOB'] = pd.to_datetime(df['DOB'])\n",
    "df['DateofHire'] = pd.to_datetime(df['DateofHire'])"
   ]
  },
  {
   "cell_type": "code",
   "execution_count": 119,
   "id": "315a22ff",
   "metadata": {},
   "outputs": [
    {
     "data": {
      "text/html": [
       "<div>\n",
       "<style scoped>\n",
       "    .dataframe tbody tr th:only-of-type {\n",
       "        vertical-align: middle;\n",
       "    }\n",
       "\n",
       "    .dataframe tbody tr th {\n",
       "        vertical-align: top;\n",
       "    }\n",
       "\n",
       "    .dataframe thead th {\n",
       "        text-align: right;\n",
       "    }\n",
       "</style>\n",
       "<table border=\"1\" class=\"dataframe\">\n",
       "  <thead>\n",
       "    <tr style=\"text-align: right;\">\n",
       "      <th></th>\n",
       "      <th>Employee_Name</th>\n",
       "      <th>DateofTermination</th>\n",
       "      <th>DOB</th>\n",
       "    </tr>\n",
       "  </thead>\n",
       "  <tbody>\n",
       "    <tr>\n",
       "      <th>41</th>\n",
       "      <td>Goble, Taisha</td>\n",
       "      <td>2015-03-15</td>\n",
       "      <td>2071-10-23</td>\n",
       "    </tr>\n",
       "    <tr>\n",
       "      <th>11</th>\n",
       "      <td>Gill, Whitney</td>\n",
       "      <td>2015-09-05</td>\n",
       "      <td>2071-07-10</td>\n",
       "    </tr>\n",
       "    <tr>\n",
       "      <th>89</th>\n",
       "      <td>Bernstein, Sean</td>\n",
       "      <td>NaT</td>\n",
       "      <td>2070-12-22</td>\n",
       "    </tr>\n",
       "    <tr>\n",
       "      <th>134</th>\n",
       "      <td>Beatrice, Courtney</td>\n",
       "      <td>NaT</td>\n",
       "      <td>2070-10-27</td>\n",
       "    </tr>\n",
       "    <tr>\n",
       "      <th>95</th>\n",
       "      <td>Kirill, Alexandra</td>\n",
       "      <td>2012-01-09</td>\n",
       "      <td>2070-10-08</td>\n",
       "    </tr>\n",
       "    <tr>\n",
       "      <th>...</th>\n",
       "      <td>...</td>\n",
       "      <td>...</td>\n",
       "      <td>...</td>\n",
       "    </tr>\n",
       "    <tr>\n",
       "      <th>396</th>\n",
       "      <td>NaN</td>\n",
       "      <td>NaT</td>\n",
       "      <td>NaT</td>\n",
       "    </tr>\n",
       "    <tr>\n",
       "      <th>397</th>\n",
       "      <td>NaN</td>\n",
       "      <td>NaT</td>\n",
       "      <td>NaT</td>\n",
       "    </tr>\n",
       "    <tr>\n",
       "      <th>398</th>\n",
       "      <td>NaN</td>\n",
       "      <td>NaT</td>\n",
       "      <td>NaT</td>\n",
       "    </tr>\n",
       "    <tr>\n",
       "      <th>399</th>\n",
       "      <td>NaN</td>\n",
       "      <td>NaT</td>\n",
       "      <td>NaT</td>\n",
       "    </tr>\n",
       "    <tr>\n",
       "      <th>400</th>\n",
       "      <td>NaN</td>\n",
       "      <td>NaT</td>\n",
       "      <td>NaT</td>\n",
       "    </tr>\n",
       "  </tbody>\n",
       "</table>\n",
       "<p>401 rows × 3 columns</p>\n",
       "</div>"
      ],
      "text/plain": [
       "           Employee_Name DateofTermination        DOB\n",
       "41         Goble, Taisha        2015-03-15 2071-10-23\n",
       "11       Gill, Whitney          2015-09-05 2071-07-10\n",
       "89       Bernstein, Sean               NaT 2070-12-22\n",
       "134  Beatrice, Courtney                NaT 2070-10-27\n",
       "95   Kirill, Alexandra          2012-01-09 2070-10-08\n",
       "..                   ...               ...        ...\n",
       "396                  NaN               NaT        NaT\n",
       "397                  NaN               NaT        NaT\n",
       "398                  NaN               NaT        NaT\n",
       "399                  NaN               NaT        NaT\n",
       "400                  NaN               NaT        NaT\n",
       "\n",
       "[401 rows x 3 columns]"
      ]
     },
     "execution_count": 119,
     "metadata": {},
     "output_type": "execute_result"
    }
   ],
   "source": [
    "df[['Employee_Name','DateofTermination','DOB']].sort_values(by='DOB',ascending=False)"
   ]
  },
  {
   "cell_type": "code",
   "execution_count": 120,
   "id": "1ab0cfde",
   "metadata": {},
   "outputs": [],
   "source": [
    "def age(row):\n",
    "    return (dt.datetime(2019,9,27) - row['DOB'])/np.timedelta64(1,'Y')"
   ]
  },
  {
   "cell_type": "code",
   "execution_count": 121,
   "id": "331a34bd",
   "metadata": {},
   "outputs": [],
   "source": [
    "df['Age'] = df.apply(lambda row: age(row),axis=1)"
   ]
  },
  {
   "cell_type": "code",
   "execution_count": 122,
   "id": "b38f6e7e",
   "metadata": {},
   "outputs": [],
   "source": [
    "df_employed = df[df['DateofTermination'].isnull()]"
   ]
  },
  {
   "cell_type": "code",
   "execution_count": 126,
   "id": "29c29ed6",
   "metadata": {},
   "outputs": [],
   "source": [
    "df_employed_corr = df_employed[df_employed['Age'] > 0]"
   ]
  },
  {
   "cell_type": "code",
   "execution_count": 128,
   "id": "e3e7e313",
   "metadata": {},
   "outputs": [
    {
     "name": "stderr",
     "output_type": "stream",
     "text": [
      "C:\\Users\\DELL\\anaconda3\\lib\\site-packages\\seaborn\\distributions.py:2619: FutureWarning: `distplot` is a deprecated function and will be removed in a future version. Please adapt your code to use either `displot` (a figure-level function with similar flexibility) or `histplot` (an axes-level function for histograms).\n",
      "  warnings.warn(msg, FutureWarning)\n"
     ]
    },
    {
     "data": {
      "text/plain": [
       "<AxesSubplot:xlabel='Age', ylabel='Density'>"
      ]
     },
     "execution_count": 128,
     "metadata": {},
     "output_type": "execute_result"
    },
    {
     "data": {
      "image/png": "[encoded data removed]",
      "text/plain": [
       "<Figure size 432x288 with 1 Axes>"
      ]
     },
     "metadata": {
      "needs_background": "light"
     },
     "output_type": "display_data"
    }
   ],
   "source": [
    "sns.distplot(df_employed_corr['Age'])"
   ]
  },
  {
   "cell_type": "markdown",
   "id": "66ae6b14",
   "metadata": {},
   "source": [
    "W bazie danychjest wiele błędnych danych gdzie DOB jest niepoprawna. Aby wyświetlić prawidłową strukturę wieku dane zostały odfiltrowane z błednych."
   ]
  },
  {
   "cell_type": "markdown",
   "id": "fa7146fa",
   "metadata": {},
   "source": [
    "# Czy starsi pracownicy pracują nad większą liczbą specjalnych projektów niż młodsi pracownicy?"
   ]
  },
  {
   "cell_type": "code",
   "execution_count": 130,
   "id": "75ad6454",
   "metadata": {},
   "outputs": [
    {
     "data": {
      "text/plain": [
       "<seaborn.axisgrid.JointGrid at 0x2cbd7b6b1f0>"
      ]
     },
     "execution_count": 130,
     "metadata": {},
     "output_type": "execute_result"
    },
    {
     "data": {
      "image/png": "[encoded data removed]",
      "text/plain": [
       "<Figure size 432x432 with 3 Axes>"
      ]
     },
     "metadata": {
      "needs_background": "light"
     },
     "output_type": "display_data"
    }
   ],
   "source": [
    "sns.jointplot(x='Age',y='SpecialProjectsCount',data=df_employed_corr,kind='hex')"
   ]
  },
  {
   "cell_type": "code",
   "execution_count": null,
   "id": "83727d94",
   "metadata": {},
   "outputs": [],
   "source": [
    "Nie. Młodsi pracownicy pracują nad większą liczbą projektów."
   ]
  }
 ],
 "metadata": {
  "kernelspec": {
   "display_name": "Python 3 (ipykernel)",
   "language": "python",
   "name": "python3"
  },
  "language_info": {
   "codemirror_mode": {
    "name": "ipython",
    "version": 3
   },
   "file_extension": ".py",
   "mimetype": "text/x-python",
   "name": "python",
   "nbconvert_exporter": "python",
   "pygments_lexer": "ipython3",
   "version": "3.9.7"
  }
 },
 "nbformat": 4,
 "nbformat_minor": 5
}
